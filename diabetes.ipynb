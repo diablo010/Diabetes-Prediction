{
 "cells": [
  {
   "cell_type": "code",
   "execution_count": 1,
   "id": "26ef38f3-7c6e-4e9b-aa14-53cc24d224d8",
   "metadata": {},
   "outputs": [],
   "source": [
    "import pandas as pd"
   ]
  },
  {
   "cell_type": "code",
   "execution_count": 5,
   "id": "7c6e46eb-3ae3-48ae-9fd2-e296a601b680",
   "metadata": {},
   "outputs": [],
   "source": [
    "df=pd.read_csv('diabetes_prediction_dataset.csv')"
   ]
  },
  {
   "cell_type": "code",
   "execution_count": 6,
   "id": "541a692d-ee33-43ca-84f4-87f4fb6fa9dc",
   "metadata": {},
   "outputs": [
    {
     "name": "stdout",
     "output_type": "stream",
     "text": [
      "       gender   age  hypertension  heart_disease smoking_history    bmi  \\\n",
      "0      Female  80.0             0              1           never  25.19   \n",
      "1      Female  54.0             0              0         No Info  27.32   \n",
      "2        Male  28.0             0              0           never  27.32   \n",
      "3      Female  36.0             0              0         current  23.45   \n",
      "4        Male  76.0             1              1         current  20.14   \n",
      "...       ...   ...           ...            ...             ...    ...   \n",
      "99995  Female  80.0             0              0         No Info  27.32   \n",
      "99996  Female   2.0             0              0         No Info  17.37   \n",
      "99997    Male  66.0             0              0          former  27.83   \n",
      "99998  Female  24.0             0              0           never  35.42   \n",
      "99999  Female  57.0             0              0         current  22.43   \n",
      "\n",
      "       HbA1c_level  blood_glucose_level  diabetes  \n",
      "0              6.6                  140         0  \n",
      "1              6.6                   80         0  \n",
      "2              5.7                  158         0  \n",
      "3              5.0                  155         0  \n",
      "4              4.8                  155         0  \n",
      "...            ...                  ...       ...  \n",
      "99995          6.2                   90         0  \n",
      "99996          6.5                  100         0  \n",
      "99997          5.7                  155         0  \n",
      "99998          4.0                  100         0  \n",
      "99999          6.6                   90         0  \n",
      "\n",
      "[100000 rows x 9 columns]\n"
     ]
    }
   ],
   "source": [
    "print(df)"
   ]
  }
 ],
 "metadata": {
  "kernelspec": {
   "display_name": "Python 3 (ipykernel)",
   "language": "python",
   "name": "python3"
  },
  "language_info": {
   "codemirror_mode": {
    "name": "ipython",
    "version": 3
   },
   "file_extension": ".py",
   "mimetype": "text/x-python",
   "name": "python",
   "nbconvert_exporter": "python",
   "pygments_lexer": "ipython3",
   "version": "3.13.2"
  }
 },
 "nbformat": 4,
 "nbformat_minor": 5
}
